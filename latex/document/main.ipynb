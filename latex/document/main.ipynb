{
 "cells": [
  {
   "cell_type": "code",
   "execution_count": 18,
   "metadata": {},
   "outputs": [],
   "source": [
    "import torch\n",
    "import numpy as np\n",
    "import math\n",
    "\n",
    "cuda_opt = True\n",
    "if torch.cuda.is_available() & cuda_opt:\n",
    "    DEVICE = \"cuda\"\n",
    "else:\n",
    "    DEVICE = \"cpu\""
   ]
  },
  {
   "cell_type": "code",
   "execution_count": 19,
   "metadata": {},
   "outputs": [],
   "source": [
    "n =10000\n",
    "n2 =10000\n",
    "L = 2\n",
    "\n",
    "\n",
    "Masks = torch.zeros(n,device=DEVICE,dtype=torch.cdouble) \n",
    "# Masks_2 = torch.zeros(n,device=DEVICE,dtype=torch.cdouble) \n",
    "\n",
    "# for ll in range(L):\n",
    "    # Masks_1[:,:,ll] = torch.from_numpy(np.random.choice([1,-1,1j,-1j], (n1,n2), p=[1/4, 1/4, 1/4, 1/4])).to(DEVICE)\n",
    "    # Masks_2[:,:,ll] = torch.from_numpy(np.random.choice([1/math.sqrt(2),math.sqrt(3)], (n1,n2), p=[4/5, 1/5])).to(DEVICE)\n",
    "\n",
    "# Masks = torch.mul(Masks_1,Masks_2)"
   ]
  },
  {
   "cell_type": "code",
   "execution_count": 20,
   "metadata": {},
   "outputs": [
    {
     "name": "stdout",
     "output_type": "stream",
     "text": [
      "tensor(-60.7646-153.3098j, dtype=torch.complex128)\n"
     ]
    }
   ],
   "source": [
    "print(torch.sum(Masks[0,:,0]))"
   ]
  },
  {
   "cell_type": "code",
   "execution_count": null,
   "metadata": {},
   "outputs": [],
   "source": []
  }
 ],
 "metadata": {
  "kernelspec": {
   "display_name": "torch",
   "language": "python",
   "name": "python3"
  },
  "language_info": {
   "codemirror_mode": {
    "name": "ipython",
    "version": 3
   },
   "file_extension": ".py",
   "mimetype": "text/x-python",
   "name": "python",
   "nbconvert_exporter": "python",
   "pygments_lexer": "ipython3",
   "version": "3.11.4"
  },
  "orig_nbformat": 4
 },
 "nbformat": 4,
 "nbformat_minor": 2
}
